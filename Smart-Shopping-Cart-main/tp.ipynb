{
 "cells": [
  {
   "cell_type": "code",
   "execution_count": 7,
   "id": "d8ca3f69-6bda-437b-9eea-a827165ec914",
   "metadata": {},
   "outputs": [
    {
     "name": "stdout",
     "output_type": "stream",
     "text": [
      "List of folders:\n",
      "Apple\n",
      "Banana\n",
      "Cabbage\n",
      "Carrots\n",
      "Mango\n",
      "Tomato\n"
     ]
    }
   ],
   "source": [
    "import os\n",
    "\n",
    "# Specify the path to the directory containing your folders\n",
    "folder_path = 'dataset_v5/train'\n",
    "\n",
    "# Get a list of all items (files and folders) in the specified directory\n",
    "all_items = os.listdir(folder_path)\n",
    "\n",
    "# Filter out only the folders\n",
    "folder_list = [item for item in all_items if os.path.isdir(os.path.join(folder_path, item))]\n",
    "\n",
    "# Print the folder names\n",
    "print(\"List of folders:\")\n",
    "for folder_name in folder_list:\n",
    "    print(folder_name)"
   ]
  },
  {
   "cell_type": "code",
   "execution_count": 5,
   "id": "5daefc6c-6887-40fa-9b2e-396c7d2ed128",
   "metadata": {},
   "outputs": [
    {
     "name": "stdout",
     "output_type": "stream",
     "text": [
      "Removing folder and its contents: dataset_v5/test\\Asparagus\n",
      "Removing folder and its contents: dataset_v5/test\\Aubergine\n",
      "Removing folder and its contents: dataset_v5/test\\Avocado\n",
      "Removing folder and its contents: dataset_v5/test\\Cucumber\n",
      "Removing folder and its contents: dataset_v5/test\\Ginger\n",
      "Removing folder and its contents: dataset_v5/test\\Kiwi\n",
      "Removing folder and its contents: dataset_v5/test\\Leek\n",
      "Removing folder and its contents: dataset_v5/test\\Lemon\n",
      "Removing folder and its contents: dataset_v5/test\\Lime\n",
      "Removing folder and its contents: dataset_v5/test\\Melon\n",
      "Removing folder and its contents: dataset_v5/test\\Onion\n",
      "Removing folder and its contents: dataset_v5/test\\Orange\n",
      "Removing folder and its contents: dataset_v5/test\\Passion-Fruit\n",
      "Removing folder and its contents: dataset_v5/test\\Peach\n",
      "Removing folder and its contents: dataset_v5/test\\Pear\n",
      "Removing folder and its contents: dataset_v5/test\\Pepper\n",
      "Removing folder and its contents: dataset_v5/test\\Pineapple\n",
      "Removing folder and its contents: dataset_v5/test\\Pomegranate\n",
      "Removing folder and its contents: dataset_v5/test\\Potato\n",
      "Removing folder and its contents: dataset_v5/test\\Red-Beet\n",
      "Removing folder and its contents: dataset_v5/test\\Red-Grapefruit\n",
      "Removing folder and its contents: dataset_v5/test\\Satsumas\n",
      "Removing folder and its contents: dataset_v5/test\\Zucchini\n",
      "Removing folder and its contents: dataset_v5/val\\Asparagus\n",
      "Removing folder and its contents: dataset_v5/val\\Aubergine\n",
      "Removing folder and its contents: dataset_v5/val\\Avocado\n",
      "Removing folder and its contents: dataset_v5/val\\Cucumber\n",
      "Removing folder and its contents: dataset_v5/val\\Ginger\n",
      "Removing folder and its contents: dataset_v5/val\\Kiwi\n",
      "Removing folder and its contents: dataset_v5/val\\Leek\n",
      "Removing folder and its contents: dataset_v5/val\\Lemon\n",
      "Removing folder and its contents: dataset_v5/val\\Lime\n",
      "Removing folder and its contents: dataset_v5/val\\Melon\n",
      "Removing folder and its contents: dataset_v5/val\\Onion\n",
      "Removing folder and its contents: dataset_v5/val\\Orange\n",
      "Removing folder and its contents: dataset_v5/val\\Passion-Fruit\n",
      "Removing folder and its contents: dataset_v5/val\\Peach\n",
      "Removing folder and its contents: dataset_v5/val\\Pear\n",
      "Removing folder and its contents: dataset_v5/val\\Pepper\n",
      "Removing folder and its contents: dataset_v5/val\\Pineapple\n",
      "Removing folder and its contents: dataset_v5/val\\Pomegranate\n",
      "Removing folder and its contents: dataset_v5/val\\Potato\n",
      "Removing folder and its contents: dataset_v5/val\\Red-Beet\n",
      "Removing folder and its contents: dataset_v5/val\\Red-Grapefruit\n",
      "Removing folder and its contents: dataset_v5/val\\Satsumas\n",
      "Removing folder and its contents: dataset_v5/val\\Zucchini\n"
     ]
    }
   ],
   "source": [
    "import os\n",
    "import shutil\n",
    "\n",
    "def get_common_folders(directory1, directory2, directory3):\n",
    "    folders1 = set(os.listdir(directory1))\n",
    "    folders2 = set(os.listdir(directory2))\n",
    "    folders3 = set(os.listdir(directory3))\n",
    "\n",
    "    common_folders = folders1.intersection(folders2, folders3)\n",
    "    return common_folders\n",
    "\n",
    "def remove_non_common_folders(directory, common_folders):\n",
    "    all_items = os.listdir(directory)\n",
    "\n",
    "    for item in all_items:\n",
    "        item_path = os.path.join(directory, item)\n",
    "\n",
    "        if item not in common_folders:\n",
    "            if os.path.isdir(item_path):\n",
    "                print(f\"Removing folder and its contents: {item_path}\")\n",
    "                shutil.rmtree(item_path)\n",
    "            else:\n",
    "                print(f\"Removing file: {item_path}\")\n",
    "                os.remove(item_path)\n",
    "\n",
    "# Specify the paths to your train, test, and val folders\n",
    "train_path = 'dataset_v5/train'\n",
    "test_path = 'dataset_v5/test'\n",
    "val_path = 'dataset_v5/val'\n",
    "\n",
    "# Get common folders\n",
    "common_folders = get_common_folders(train_path, test_path, val_path)\n",
    "\n",
    "# Remove non-common folders\n",
    "remove_non_common_folders(train_path, common_folders)\n",
    "remove_non_common_folders(test_path, common_folders)\n",
    "remove_non_common_folders(val_path, common_folders)"
   ]
  },
  {
   "cell_type": "code",
   "execution_count": 4,
   "id": "23cb2094-e39e-4ec1-bcb4-5c727bb2e8e8",
   "metadata": {},
   "outputs": [
    {
     "ename": "PermissionError",
     "evalue": "[Errno 13] Permission denied: 'dataset_v4/train\\\\Apple'",
     "output_type": "error",
     "traceback": [
      "\u001b[1;31m---------------------------------------------------------------------------\u001b[0m",
      "\u001b[1;31mPermissionError\u001b[0m                           Traceback (most recent call last)",
      "Cell \u001b[1;32mIn[4], line 27\u001b[0m\n\u001b[0;32m     24\u001b[0m output_folder_path \u001b[38;5;241m=\u001b[39m \u001b[38;5;124m'\u001b[39m\u001b[38;5;124mdataset_v6/train\u001b[39m\u001b[38;5;124m'\u001b[39m\n\u001b[0;32m     26\u001b[0m \u001b[38;5;66;03m# Call the function to resize images\u001b[39;00m\n\u001b[1;32m---> 27\u001b[0m \u001b[43mresize_images\u001b[49m\u001b[43m(\u001b[49m\u001b[43minput_folder_path\u001b[49m\u001b[43m,\u001b[49m\u001b[43m \u001b[49m\u001b[43moutput_folder_path\u001b[49m\u001b[43m)\u001b[49m\n",
      "Cell \u001b[1;32mIn[4], line 15\u001b[0m, in \u001b[0;36mresize_images\u001b[1;34m(input_folder, output_folder, new_size)\u001b[0m\n\u001b[0;32m     12\u001b[0m output_path \u001b[38;5;241m=\u001b[39m os\u001b[38;5;241m.\u001b[39mpath\u001b[38;5;241m.\u001b[39mjoin(output_folder, filename)\n\u001b[0;32m     14\u001b[0m \u001b[38;5;66;03m# Open the image\u001b[39;00m\n\u001b[1;32m---> 15\u001b[0m \u001b[38;5;28;01mwith\u001b[39;00m \u001b[43mImage\u001b[49m\u001b[38;5;241;43m.\u001b[39;49m\u001b[43mopen\u001b[49m\u001b[43m(\u001b[49m\u001b[43minput_path\u001b[49m\u001b[43m)\u001b[49m \u001b[38;5;28;01mas\u001b[39;00m img:\n\u001b[0;32m     16\u001b[0m     \u001b[38;5;66;03m# Resize the image\u001b[39;00m\n\u001b[0;32m     17\u001b[0m     resized_img \u001b[38;5;241m=\u001b[39m img\u001b[38;5;241m.\u001b[39mresize(new_size)\n\u001b[0;32m     19\u001b[0m     \u001b[38;5;66;03m# Save the resized image to the output folder, overwriting the original\u001b[39;00m\n",
      "File \u001b[1;32m~\\AppData\\Local\\Programs\\Python\\Python311\\Lib\\site-packages\\PIL\\Image.py:3236\u001b[0m, in \u001b[0;36mopen\u001b[1;34m(fp, mode, formats)\u001b[0m\n\u001b[0;32m   3233\u001b[0m     filename \u001b[38;5;241m=\u001b[39m fp\n\u001b[0;32m   3235\u001b[0m \u001b[38;5;28;01mif\u001b[39;00m filename:\n\u001b[1;32m-> 3236\u001b[0m     fp \u001b[38;5;241m=\u001b[39m \u001b[43mbuiltins\u001b[49m\u001b[38;5;241;43m.\u001b[39;49m\u001b[43mopen\u001b[49m\u001b[43m(\u001b[49m\u001b[43mfilename\u001b[49m\u001b[43m,\u001b[49m\u001b[43m \u001b[49m\u001b[38;5;124;43m\"\u001b[39;49m\u001b[38;5;124;43mrb\u001b[39;49m\u001b[38;5;124;43m\"\u001b[39;49m\u001b[43m)\u001b[49m\n\u001b[0;32m   3237\u001b[0m     exclusive_fp \u001b[38;5;241m=\u001b[39m \u001b[38;5;28;01mTrue\u001b[39;00m\n\u001b[0;32m   3239\u001b[0m \u001b[38;5;28;01mtry\u001b[39;00m:\n",
      "\u001b[1;31mPermissionError\u001b[0m: [Errno 13] Permission denied: 'dataset_v4/train\\\\Apple'"
     ]
    }
   ],
   "source": [
    "from PIL import Image\n",
    "import os\n",
    "\n",
    "def resize_images(input_folder, output_folder, new_size=(224, 224)):\n",
    "    # Create the output folder if it doesn't exist\n",
    "    if not os.path.exists(output_folder):\n",
    "        os.makedirs(output_folder)\n",
    "\n",
    "    # Iterate through all files in the input folder\n",
    "    for filename in os.listdir(input_folder):\n",
    "        input_path = os.path.join(input_folder, filename)\n",
    "        output_path = os.path.join(output_folder, filename)\n",
    "\n",
    "        # Open the image\n",
    "        with Image.open(input_path) as img:\n",
    "            # Resize the image\n",
    "            resized_img = img.resize(new_size)\n",
    "\n",
    "            # Save the resized image to the output folder, overwriting the original\n",
    "            resized_img.save(output_path)\n",
    "\n",
    "# Specify the paths to your input and output folders\n",
    "input_folder_path = 'dataset_v4/train'\n",
    "output_folder_path = 'dataset_v6/train'\n",
    "\n",
    "# Call the function to resize images\n",
    "resize_images(input_folder_path, output_folder_path)"
   ]
  },
  {
   "cell_type": "code",
   "execution_count": null,
   "id": "e7f94497-be4b-493c-ab5f-8135f12d244f",
   "metadata": {},
   "outputs": [],
   "source": []
  }
 ],
 "metadata": {
  "kernelspec": {
   "display_name": "Python 3 (ipykernel)",
   "language": "python",
   "name": "python3"
  },
  "language_info": {
   "codemirror_mode": {
    "name": "ipython",
    "version": 3
   },
   "file_extension": ".py",
   "mimetype": "text/x-python",
   "name": "python",
   "nbconvert_exporter": "python",
   "pygments_lexer": "ipython3",
   "version": "3.11.2"
  }
 },
 "nbformat": 4,
 "nbformat_minor": 5
}
